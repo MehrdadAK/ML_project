{
 "cells": [
  {
   "cell_type": "markdown",
   "id": "e03be514-d037-458b-a067-7f397a1b95b8",
   "metadata": {},
   "source": [
    "# Data Collection\n",
    "## Installation of the required libraries"
   ]
  },
  {
   "cell_type": "code",
   "execution_count": null,
   "id": "6cda9db4-f9d9-452b-a566-ffb4b265c533",
   "metadata": {},
   "outputs": [],
   "source": [
    "import numpy as np\n",
    "import pandas as pd\n",
    "import seaborn as sns\n",
    "import matplotlib.pyplot as plt\n",
    "from IPython.display import display"
   ]
  },
  {
   "cell_type": "markdown",
   "id": "ab6029e7-5659-415b-8fae-32e46a313c7d",
   "metadata": {},
   "source": [
    "## Load the dataset"
   ]
  },
  {
   "cell_type": "code",
   "execution_count": null,
   "id": "1461cee2-0bed-430f-acf1-0a8e7613a50e",
   "metadata": {
    "scrolled": true
   },
   "outputs": [],
   "source": [
    "df = pd.read_csv(\"housePrice.csv\")\n",
    "df"
   ]
  },
  {
   "cell_type": "code",
   "execution_count": null,
   "id": "2d590e1a-9bdc-4041-8f4b-1ac2653b381f",
   "metadata": {},
   "outputs": [],
   "source": [
    "df.describe()"
   ]
  },
  {
   "cell_type": "markdown",
   "id": "6c789415-3fcf-48af-81dd-5649fab076fe",
   "metadata": {},
   "source": [
    "# Data Preprocessing"
   ]
  },
  {
   "cell_type": "code",
   "execution_count": null,
   "id": "c76d21c3-b616-48ef-94f1-f7baa61fa270",
   "metadata": {},
   "outputs": [],
   "source": [
    "df.info(verbose=True)"
   ]
  },
  {
   "cell_type": "markdown",
   "id": "e512a6d5-b0bc-48f9-ad05-dcbddac17392",
   "metadata": {},
   "source": [
    "#### *look at address \n",
    "we have some None value in this column.\n",
    "## Step 1:Drop Nan address from dataframe"
   ]
  },
  {
   "cell_type": "code",
   "execution_count": null,
   "id": "4537e637-c176-4511-a0a6-b583221e1fb0",
   "metadata": {},
   "outputs": [],
   "source": [
    "df = df.dropna(subset = [\"Address\"])\n",
    "df.reset_index(drop=True, inplace=True)\n",
    "df1 = df.copy()"
   ]
  },
  {
   "cell_type": "markdown",
   "id": "9c6c090b-4797-4882-923d-228b61a0fffb",
   "metadata": {},
   "source": [
    "## Step 2:Change string feature to numeric\n",
    "make True/False as 0/1 number to be usable in progress"
   ]
  },
  {
   "cell_type": "code",
   "execution_count": null,
   "id": "1a0e6dba-b3d8-491b-a236-f935570f6925",
   "metadata": {},
   "outputs": [],
   "source": [
    "from sklearn.preprocessing import LabelEncoder\n",
    "le = LabelEncoder()\n",
    "input1 = [\"Parking\",\"Warehouse\",\"Elevator\"]\n",
    "df1[input1] = df1[input1].apply(le.fit_transform)\n",
    "df1"
   ]
  },
  {
   "cell_type": "markdown",
   "id": "a027e28d-56d8-47f2-aa10-c5c4d77a0d21",
   "metadata": {},
   "source": [
    "## Step 3:Understanding Outliers\n",
    "\"ISM\" function used to detect and remove outliers in a column of a DataFrame. The function first converts the specified column to floating-point numbers and removes any commas (,). Then, by computing the mean and standard deviation, it uses the 8-standard deviation method to determine the upper and lower bounds for outliers.\n",
    "### * In the info cell we found out that Area is not just a numeric data"
   ]
  },
  {
   "cell_type": "code",
   "execution_count": null,
   "id": "dc1345e7-0a06-4ae3-b676-502de0fc1309",
   "metadata": {},
   "outputs": [],
   "source": [
    "a = pd.to_numeric(df.Area, errors='coerce')\n",
    "idx = a.isna()\n",
    "df[idx]"
   ]
  },
  {
   "cell_type": "markdown",
   "id": "e0e00526-ea39-4c72-8338-dcf8e2cf9859",
   "metadata": {},
   "source": [
    "### * Remove commas and convert to numeric"
   ]
  },
  {
   "cell_type": "code",
   "execution_count": null,
   "id": "eabcb3f4-1e4e-4901-8b38-30c155c025c2",
   "metadata": {},
   "outputs": [],
   "source": [
    "df1[\"Area\"] = df1[\"Area\"].astype(str).str.replace(',', '').astype(float)"
   ]
  },
  {
   "cell_type": "markdown",
   "id": "e03f7f7f-606f-4121-a3ae-244b44e0a268",
   "metadata": {},
   "source": [
    "### * Drop Outliers"
   ]
  },
  {
   "cell_type": "code",
   "execution_count": null,
   "id": "b3c067db-2628-4e9f-9bdf-dc9a680b0de9",
   "metadata": {},
   "outputs": [],
   "source": [
    "def ISM(df, Column_name):\n",
    "    \n",
    "    column_data = df [Column_name]\n",
    "    mean = column_data.mean()\n",
    "    std_dev = column_data.std()\n",
    "    threshold = 5 * std_dev\n",
    "    lower_bound = mean - threshold\n",
    "    upper_bound = mean + threshold\n",
    "    outliers = column_data [(column_data < lower_bound) | (column_data > upper_bound)]\n",
    "    out_temp = outliers.copy()      \n",
    "    df.drop(out_temp.index, inplace=True)  # Drop rows containing outliers\n",
    "    df.reset_index(drop=True, inplace=True)  # Reset index to be sequential\n",
    "    return outliers"
   ]
  },
  {
   "cell_type": "code",
   "execution_count": null,
   "id": "81203c7c-760e-4b42-b252-c6660fbf5383",
   "metadata": {},
   "outputs": [],
   "source": [
    "out = ISM(df1,\"Area\")\n",
    "if len(out) == 0:\n",
    "    print(\"We don't have Outliers\")\n",
    "else:\n",
    "    print(\"Outliers in the column:\")\n",
    "    print(out)"
   ]
  },
  {
   "cell_type": "markdown",
   "id": "63f2ab76-87f4-4b59-ade0-a07c4e98355c",
   "metadata": {},
   "source": [
    "# Feature Engineering"
   ]
  },
  {
   "cell_type": "markdown",
   "id": "88ed87d5-d6a4-4d4c-a828-b336c81e954d",
   "metadata": {},
   "source": [
    "## Step 1:sort by Addresses \n",
    "we know that the average price in each area of Tehran is different so we want to sort data from cheap to expensive to find the better fit function for our regression.\n",
    "### Sort by mean price of each Area"
   ]
  },
  {
   "cell_type": "code",
   "execution_count": null,
   "id": "02c75129-3796-4e75-8097-4d1a98d7aef4",
   "metadata": {},
   "outputs": [],
   "source": [
    "unique_add = df[\"Address\"].unique()\n",
    "Add = []\n",
    "Mean = []\n",
    "for i in unique_add:\n",
    "    df_temp = df1[df1[\"Address\"] == i]\n",
    "    mean = (df_temp[\"Price\"]/df_temp[\"Area\"]).mean()\n",
    "    Add.append(i)\n",
    "    Mean.append(mean)\n",
    "per_area = pd.DataFrame({'Address': Add, 'Price': Mean})\n",
    "per_area = per_area.sort_values(by='Price')\n",
    "per_area.reset_index(drop=True, inplace=True)\n",
    "per_area"
   ]
  },
  {
   "cell_type": "markdown",
   "id": "3005fe5e-d829-4742-9147-6c392117e042",
   "metadata": {},
   "source": [
    "### * we change addresses to numric for use in regression model and drop extra columns"
   ]
  },
  {
   "cell_type": "code",
   "execution_count": null,
   "id": "8cffa536-9429-4575-99ec-c4b7879216ed",
   "metadata": {},
   "outputs": [],
   "source": [
    "df2 = pd.DataFrame([])\n",
    "for idx, i in enumerate(per_area[\"Address\"], start=1):\n",
    "    df_temp = df1[df1['Address'] == i].copy()\n",
    "    df_temp[\"Address\"] = idx\n",
    "    df_temp[\"Price\"] = df_temp[\"Price\"]/df_temp[\"Area\"]\n",
    "    df_temp = df_temp.rename(columns={\"Price\": \"PSM\"})\n",
    "    df_temp = df_temp.drop([\"Area\", \"Price(USD)\"], axis=1)\n",
    "    df2 = pd.concat([df2, df_temp], axis=0)\n",
    "df2.reset_index(drop=True, inplace=True)\n",
    "ISM (df2, \"PSM\")\n",
    "df2"
   ]
  },
  {
   "cell_type": "code",
   "execution_count": null,
   "id": "dc02b2df-82ac-4fcc-a9f9-f0f859b96159",
   "metadata": {},
   "outputs": [],
   "source": [
    "sns.heatmap(df2.corr())"
   ]
  },
  {
   "cell_type": "markdown",
   "id": "30aa424d-34b2-4dc7-b8b1-3a0f9effc02b",
   "metadata": {},
   "source": [
    "### Address has most effect on price. :)  \n",
    "and we can see the effect of must of features is less than 0.5 points from 1 but try it next of address effect"
   ]
  },
  {
   "cell_type": "code",
   "execution_count": null,
   "id": "067f383f-845c-4346-a228-894c594f4e90",
   "metadata": {},
   "outputs": [],
   "source": [
    "sns.pairplot(df2)"
   ]
  },
  {
   "cell_type": "markdown",
   "id": "aa685ad2-966c-439a-9bc3-44aa383bdd7d",
   "metadata": {},
   "source": [
    "### * Creating train and test dataset"
   ]
  },
  {
   "cell_type": "code",
   "execution_count": null,
   "id": "381d101f-9d7b-4cc6-972d-968900fb79f4",
   "metadata": {},
   "outputs": [],
   "source": [
    "msk = np.random.rand(len(df2)) < 0.8\n",
    "train = df2[msk]\n",
    "test = df2[~msk]"
   ]
  },
  {
   "cell_type": "markdown",
   "id": "e0c14ed3-3db2-40ea-a3f8-50c71756fb37",
   "metadata": {},
   "source": [
    "# Simple Regression Model\n",
    "## Address Effect\n",
    "first of all we try to found a regression for house price per area that we use price per square meter for 192 area "
   ]
  },
  {
   "cell_type": "code",
   "execution_count": null,
   "id": "3d51cc46-2b03-41ae-98cf-c45f19d2a0c2",
   "metadata": {},
   "outputs": [],
   "source": [
    "plt.scatter(train.Address, train.PSM, s=2, color='blue')\n",
    "plt.title(\"House price per Area\")\n",
    "plt.xlabel(\"Address (numric)\")\n",
    "plt.ylabel(\"Price (Per squre meter)\")\n",
    "plt.grid(True)\n",
    "plt.show()"
   ]
  },
  {
   "cell_type": "markdown",
   "id": "eff34c8a-33dd-46ca-8b69-64b0c75a04a7",
   "metadata": {},
   "source": [
    "## Step 1: Data normalization"
   ]
  },
  {
   "cell_type": "code",
   "execution_count": null,
   "id": "bbadb06e-5b3b-4ca1-9468-09d5370aa511",
   "metadata": {},
   "outputs": [],
   "source": [
    "def anyarray(Data):\n",
    "    Data_x = np.asanyarray(Data[[\"Address\"]])\n",
    "    Data_y = np.asanyarray(Data[[\"PSM\"]])\n",
    "    # Lets normalize our data\n",
    "    Normalx =Data_x/max(Data_x)\n",
    "    Normaly =Data_y/max(Data_y)\n",
    "    return Normalx, Normaly"
   ]
  },
  {
   "cell_type": "markdown",
   "id": "dbe73df5-4256-4067-96dc-257d3101549d",
   "metadata": {},
   "source": [
    "## Step 2: Model Training"
   ]
  },
  {
   "cell_type": "code",
   "execution_count": null,
   "id": "9c14b23a-bedd-4ae6-8b46-d68582b6d5b1",
   "metadata": {},
   "outputs": [],
   "source": [
    "from sklearn.preprocessing import PolynomialFeatures\n",
    "from sklearn import linear_model\n",
    "\n",
    "train_x, train_y = anyarray(train)\n",
    "poly = PolynomialFeatures(degree=3)\n",
    "train_x_poly = poly.fit_transform(train_x)\n",
    "clf = linear_model.LinearRegression()\n",
    "train_y_hat = clf.fit(train_x_poly, train_y)\n",
    "popt = clf.coef_[0]\n",
    "\n",
    "print(\" beta_0 = %.2f, beta_1 = %.2f, beta_2 = %.2f, beta_3 = %.2f\" % (popt[0], popt[1], popt[2], popt[3]))"
   ]
  },
  {
   "cell_type": "markdown",
   "id": "91225bb5-5254-40a2-8aa3-ed243fe75c23",
   "metadata": {},
   "source": [
    "## Step 3: Model Prediction"
   ]
  },
  {
   "cell_type": "code",
   "execution_count": null,
   "id": "15d6f2a6-7f19-4142-81fe-c6c19da49979",
   "metadata": {},
   "outputs": [],
   "source": [
    "plt.scatter(train_x, train_y, s=2, color='blue', label='data')\n",
    "X = np.arange(0.0, 1.1, 0.1)\n",
    "Y = clf.intercept_[0] + popt[1]*X + popt[2]*np.power(X, 2) + popt[3]*np.power(X, 3)\n",
    "plt.plot(X, Y, '--r', linewidth=2, label='fit')\n",
    "plt.title(\"House price per Area\")\n",
    "plt.xlabel(\"Address (numric)\")\n",
    "plt.ylabel(\"Price (Per squre meter)\")\n",
    "plt.legend(loc='best')\n",
    "plt.grid(True)\n",
    "plt.show()"
   ]
  },
  {
   "cell_type": "markdown",
   "id": "46ab887b-dfe1-4112-be8e-0f64a237d6a8",
   "metadata": {},
   "source": [
    "## Step 4: Model Evaluation"
   ]
  },
  {
   "cell_type": "code",
   "execution_count": null,
   "id": "f2a68300-1d5d-4b6b-bf55-8a221ec5bad0",
   "metadata": {},
   "outputs": [],
   "source": [
    "from sklearn.metrics import r2_score\n",
    "\n",
    "test_x, test_y = anyarray(test)\n",
    "test_x_poly = poly.fit_transform(test_x)\n",
    "test_y_hat = clf.predict(test_x_poly)\n",
    "\n",
    "print(\"Mean absolute error: %.4f\" % np.mean(np.absolute(test_y_hat - test_y)))\n",
    "print(\"Mean squares  error: %.4f\" % np.mean((test_y_hat - test_y) ** 2))\n",
    "print(\"R2-score: %.2f\" % r2_score(test_y,test_y_hat ) )"
   ]
  },
  {
   "cell_type": "markdown",
   "id": "07ae067a-f0bb-4b82-b44b-56052e1eefca",
   "metadata": {},
   "source": [
    "### * we decide to use the mean price of each area as the candidate for that place"
   ]
  },
  {
   "cell_type": "code",
   "execution_count": null,
   "id": "3224f954-e9e8-4a6a-bacd-3ef0cd01d174",
   "metadata": {},
   "outputs": [],
   "source": [
    "def Mean_func(dataframe):\n",
    "    unique_add = dataframe[\"Address\"].unique()\n",
    "    Add = []\n",
    "    Mean = []\n",
    "    for i in unique_add:\n",
    "        df_temp = dataframe[dataframe[\"Address\"] == i]\n",
    "        mean = df_temp[\"PSM\"].mean()\n",
    "        Add.append(i)\n",
    "        Mean.append(mean)\n",
    "    per_area = pd.DataFrame({'Address': Add, 'PSM': Mean})\n",
    "    per_area = per_area.sort_values(by='PSM')\n",
    "    x, y = anyarray(per_area)\n",
    "    return x, y"
   ]
  },
  {
   "cell_type": "markdown",
   "id": "7ede174b-ba0b-43fe-83ce-f5cf82658a0b",
   "metadata": {},
   "source": [
    "### * Make our model"
   ]
  },
  {
   "cell_type": "code",
   "execution_count": null,
   "id": "0976d857-3848-4646-b125-c17f77d2cf04",
   "metadata": {},
   "outputs": [],
   "source": [
    "def Model(train_x, train_y):\n",
    "    poly = PolynomialFeatures(degree=3)\n",
    "    train_x_poly = poly.fit_transform(train_x)\n",
    "    reg = linear_model.LinearRegression()\n",
    "    train_y_hat = reg.fit(train_x_poly, train_y)\n",
    "    return reg"
   ]
  },
  {
   "cell_type": "markdown",
   "id": "5daa9b9f-3401-4762-9e95-01716e413419",
   "metadata": {},
   "source": [
    "\n",
    "# Parking effect"
   ]
  },
  {
   "cell_type": "code",
   "execution_count": null,
   "id": "b235bf5b-d5b5-4efb-8c9b-e651c34b1672",
   "metadata": {},
   "outputs": [],
   "source": [
    "True_p = train[train[\"Parking\"] == 1]\n",
    "False_p = train[train[\"Parking\"] == 0]\n",
    "tp_x, tp_y = Mean_func(True_p)\n",
    "fp_x, fp_y = Mean_func(False_p)\n",
    "plt.scatter(tp_x, tp_y, s=10, color='blue', label='Has Parking')\n",
    "plt.scatter(fp_x, fp_y, s=10, color='red', label='No Parking')\n",
    "plt.title(\"House price per Area\")\n",
    "plt.xlabel(\"Address (numric)\")\n",
    "plt.ylabel(\"Price (Per squre meter)\")\n",
    "plt.legend(loc='best')\n",
    "plt.grid(True)\n",
    "plt.show()"
   ]
  },
  {
   "cell_type": "markdown",
   "id": "eb00a22e-4edd-46bc-b6b7-29e2faf85476",
   "metadata": {},
   "source": [
    "## Step 1: Model Training"
   ]
  },
  {
   "cell_type": "code",
   "execution_count": null,
   "id": "8ed9dab2-2c0f-4aba-8c9e-82acdd321ce8",
   "metadata": {},
   "outputs": [],
   "source": [
    "X = np.arange(0.0, 1.1, 0.1)\n",
    "tp_reg = Model(tp_x, tp_y)\n",
    "fp_reg = Model(fp_x, fp_y)\n",
    "Yt = tp_reg.intercept_[0] + tp_reg.coef_[0][1]*X + tp_reg.coef_[0][2]*np.power(X, 2) + tp_reg.coef_[0][3]*np.power(X, 3)\n",
    "Yf = fp_reg.intercept_[0] + fp_reg.coef_[0][1]*X + fp_reg.coef_[0][2]*np.power(X, 2) + fp_reg.coef_[0][3]*np.power(X, 3)"
   ]
  },
  {
   "cell_type": "markdown",
   "id": "20201933-71e0-4e52-b052-399396afb4ee",
   "metadata": {},
   "source": [
    "## step 2: Model Prediction"
   ]
  },
  {
   "cell_type": "code",
   "execution_count": null,
   "id": "2ff99598-ab25-4c06-afc4-4d91c2e5c916",
   "metadata": {},
   "outputs": [],
   "source": [
    "plt.figure(figsize=(10, 5))\n",
    "plt.subplot(1, 2, 1)\n",
    "plt.scatter(tp_x, tp_y, s=15, color='blue', label='Has Parking')\n",
    "plt.plot(X, Yt, '--g', linewidth=3, label='fit Has Parking')\n",
    "plt.title(\"House price per Area\")\n",
    "plt.xlabel(\"Address (numric)\")\n",
    "plt.ylabel(\"Price (Per squre meter)\")\n",
    "plt.legend(loc='best')\n",
    "plt.grid(True)\n",
    "\n",
    "plt.subplot(1, 2, 2)\n",
    "plt.scatter(fp_x, fp_y, s=15, color='red', label='No Parking')\n",
    "plt.plot(X, Yf, '--g', linewidth=3, label='fit No Parking')\n",
    "plt.title(\"House price per Area\")\n",
    "plt.xlabel(\"Address (numric)\")\n",
    "plt.ylabel(\"Price (Per squre meter)\")\n",
    "plt.legend(loc='best')\n",
    "plt.grid(True)\n",
    "\n",
    "plt.tight_layout()\n",
    "plt.show()"
   ]
  },
  {
   "cell_type": "markdown",
   "id": "ecf42790-c78c-4538-9db1-4dca4b6c3f6f",
   "metadata": {},
   "source": [
    "# Warehouse effect"
   ]
  },
  {
   "cell_type": "code",
   "execution_count": null,
   "id": "9c0704e8-685f-4cba-a8e6-e1e877804ad9",
   "metadata": {},
   "outputs": [],
   "source": [
    "True_W = train[train[\"Warehouse\"] == 1]\n",
    "False_W = train[train[\"Warehouse\"] == 0]\n",
    "tw_x, tw_y = Mean_func(True_W)\n",
    "fw_x, fw_y = Mean_func(False_W)\n",
    "plt.scatter(tw_x, tw_y, s=10, color='blue', label='Has Warehouse')\n",
    "plt.scatter(fw_x, fw_y, s=10, color='red', label='No Warehouse')\n",
    "plt.title(\"House price per Area\")\n",
    "plt.xlabel(\"Address (numric)\")\n",
    "plt.ylabel(\"Price (Per squre meter)\")\n",
    "plt.legend(loc='best')\n",
    "plt.grid(True)\n",
    "plt.show()"
   ]
  },
  {
   "cell_type": "markdown",
   "id": "c018d63a-63c3-4d67-bb41-f76acdc64b03",
   "metadata": {},
   "source": [
    "## Step 1: Model Training"
   ]
  },
  {
   "cell_type": "code",
   "execution_count": null,
   "id": "e8ea2dc8-2057-4ad8-a48e-2c59aed1e495",
   "metadata": {},
   "outputs": [],
   "source": [
    "X = np.arange(0.0, 1.1, 0.1)\n",
    "tw_reg = Model(tw_x, tw_y)\n",
    "fw_reg = Model(fw_x, fw_y)\n",
    "Yt = tw_reg.intercept_[0] + tw_reg.coef_[0][1]*X + tw_reg.coef_[0][2]*np.power(X, 2) + tw_reg.coef_[0][3]*np.power(X, 3)\n",
    "Yf = fw_reg.intercept_[0] + fw_reg.coef_[0][1]*X + fw_reg.coef_[0][2]*np.power(X, 2) + fw_reg.coef_[0][3]*np.power(X, 3)"
   ]
  },
  {
   "cell_type": "markdown",
   "id": "97afcbc0-5a56-41d2-b27f-c94bbe9dca86",
   "metadata": {},
   "source": [
    "## step 2: Model Prediction"
   ]
  },
  {
   "cell_type": "code",
   "execution_count": null,
   "id": "a1da8b8a-b433-4376-a540-f5c213528cf3",
   "metadata": {},
   "outputs": [],
   "source": [
    "plt.figure(figsize=(10, 5))\n",
    "plt.subplot(1, 2, 1)\n",
    "plt.scatter(tw_x, tw_y, s=15, color='blue', label='Has Warehouse')\n",
    "plt.plot(X, Yt, '--g', linewidth=3, label='fit Has Warehouse')\n",
    "plt.title(\"House price per Area\")\n",
    "plt.xlabel(\"Address (numric)\")\n",
    "plt.ylabel(\"Price (Per squre meter)\")\n",
    "plt.legend(loc='best')\n",
    "plt.grid(True)\n",
    "\n",
    "plt.subplot(1, 2, 2)\n",
    "plt.scatter(fw_x, fw_y, s=15, color='red', label='No Warehouse')\n",
    "plt.plot(X, Yf, '--g', linewidth=3, label='fit No Warehouse')\n",
    "plt.title(\"House price per Area\")\n",
    "plt.xlabel(\"Address (numric)\")\n",
    "plt.ylabel(\"Price (Per squre meter)\")\n",
    "plt.legend(loc='best')\n",
    "plt.grid(True)\n",
    "\n",
    "plt.tight_layout()\n",
    "plt.show()"
   ]
  },
  {
   "cell_type": "markdown",
   "id": "6a483d8f-9a64-4c7d-9ebd-173d490d6951",
   "metadata": {},
   "source": [
    "\n",
    "# Elevator effect"
   ]
  },
  {
   "cell_type": "code",
   "execution_count": null,
   "id": "153b7a8e-4d1f-4a5d-a17b-9a73f15ebe67",
   "metadata": {},
   "outputs": [],
   "source": [
    "True_E = train[train[\"Elevator\"] == 1]\n",
    "False_E = train[train[\"Elevator\"] == 0]\n",
    "te_x, te_y = Mean_func(True_E)\n",
    "fe_x, fe_y = Mean_func(False_E)\n",
    "plt.scatter(te_x, te_y, s=10, color='blue', label='Has Elevator')\n",
    "plt.scatter(fe_x, fe_y, s=10, color='red', label='No Elevator')\n",
    "plt.title(\"House price per Area\")\n",
    "plt.xlabel(\"Address (numric)\")\n",
    "plt.ylabel(\"Price (Per squre meter)\")\n",
    "plt.legend(loc='best')\n",
    "plt.grid(True)\n",
    "plt.show()"
   ]
  },
  {
   "cell_type": "markdown",
   "id": "8182e6b2-c54c-4e25-b100-ec49b43b4e1e",
   "metadata": {},
   "source": [
    "## Step 1: Model Training"
   ]
  },
  {
   "cell_type": "code",
   "execution_count": null,
   "id": "1db10aae-2c99-44b9-a2c8-7132eed31e1c",
   "metadata": {},
   "outputs": [],
   "source": [
    "X = np.arange(0.0, 1.1, 0.1)\n",
    "te_reg = Model(te_x, te_y)\n",
    "fe_reg = Model(fe_x, fe_y)\n",
    "Yt = te_reg.intercept_[0] + te_reg.coef_[0][1]*X + te_reg.coef_[0][2]*np.power(X, 2) + te_reg.coef_[0][3]*np.power(X, 3)\n",
    "Yf = fe_reg.intercept_[0] + fe_reg.coef_[0][1]*X + fe_reg.coef_[0][2]*np.power(X, 2) + fe_reg.coef_[0][3]*np.power(X, 3)"
   ]
  },
  {
   "cell_type": "markdown",
   "id": "3c122400-73da-44b7-8bb6-a77d4227d359",
   "metadata": {},
   "source": [
    "## Step 2: Model Prediction"
   ]
  },
  {
   "cell_type": "code",
   "execution_count": null,
   "id": "ef5c4033-5baf-4ab5-8582-5d639b5cbee7",
   "metadata": {},
   "outputs": [],
   "source": [
    "plt.figure(figsize=(10, 5))\n",
    "plt.subplot(1, 2, 1)\n",
    "plt.scatter(te_x, te_y, s=15, color='blue', label='Has Elevator')\n",
    "plt.plot(X, Yt, '--g', linewidth=3, label='fit Has Elevator')\n",
    "plt.title(\"House price per Area\")\n",
    "plt.xlabel(\"Address (numric)\")\n",
    "plt.ylabel(\"Price (Per squre meter)\")\n",
    "plt.legend(loc='best')\n",
    "plt.grid(True)\n",
    "\n",
    "plt.subplot(1, 2, 2)\n",
    "plt.scatter(fe_x, fe_y, s=15, color='red', label='No Elevator')\n",
    "plt.plot(X, Yf, '--g', linewidth=3, label='fit No Elevator')\n",
    "plt.title(\"House price per Area\")\n",
    "plt.xlabel(\"Address (numric)\")\n",
    "plt.ylabel(\"Price (Per squre meter)\")\n",
    "plt.legend(loc='best')\n",
    "plt.grid(True)\n",
    "\n",
    "plt.tight_layout()\n",
    "plt.show()"
   ]
  },
  {
   "cell_type": "markdown",
   "id": "17a4b100-9cb1-44fe-95b6-18749c3353c6",
   "metadata": {},
   "source": [
    "# Result"
   ]
  },
  {
   "cell_type": "markdown",
   "id": "a901da41-c7a7-4251-b71a-96a2dca70140",
   "metadata": {},
   "source": [
    "|Regression models|  Detail |\n",
    "|---|---|\n",
    "|  clf  | predict price without Parking,Wear house,Elevator effect |\n",
    "| tp_reg | predict price whit parking effect |\n",
    "| fp_reg | predict price without parking effect |\n",
    "| tw_reg | predict price whit Wear house effect |\n",
    "| fw_reg | predict price without Wear house effect |\n",
    "| te_reg | predict price whit Elevator effect |\n",
    "| fe_reg | predict price without Elevator effect |"
   ]
  }
 ],
 "metadata": {
  "kernelspec": {
   "display_name": "Python 3 (ipykernel)",
   "language": "python",
   "name": "python3"
  },
  "language_info": {
   "codemirror_mode": {
    "name": "ipython",
    "version": 3
   },
   "file_extension": ".py",
   "mimetype": "text/x-python",
   "name": "python",
   "nbconvert_exporter": "python",
   "pygments_lexer": "ipython3",
   "version": "3.11.7"
  },
  "toc": {
   "base_numbering": 1,
   "nav_menu": {},
   "number_sections": true,
   "sideBar": true,
   "skip_h1_title": false,
   "title_cell": "Table of Contents",
   "title_sidebar": "Contents",
   "toc_cell": false,
   "toc_position": {},
   "toc_section_display": true,
   "toc_window_display": false
  }
 },
 "nbformat": 4,
 "nbformat_minor": 5
}
